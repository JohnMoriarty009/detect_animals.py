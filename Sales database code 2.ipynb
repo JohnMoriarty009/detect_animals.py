{
  "cells": [
    {
      "cell_type": "markdown",
      "metadata": {
        "id": "view-in-github",
        "colab_type": "text"
      },
      "source": [
        "<a href=\"https://colab.research.google.com/github/JohnMoriarty009/detect_animals.py/blob/main/deuxi%C3%A8me_%C3%A9tape.ipynb\" target=\"_parent\"><img src=\"https://colab.research.google.com/assets/colab-badge.svg\" alt=\"Open In Colab\"/></a>"
      ]
    },
    {
      "cell_type": "markdown",
      "source": [
        "Parfait ! Passons à l'ajout de la fonctionnalité pour enregistrer une nouvelle vente.\n",
        "\n",
        "Nous allons créer une fonction Python qui prendra en argument les détails d'une vente (nom client, contact, date, etc.), calculera le montant total pour cette ligne, et insérera ces informations dans la table `sales` de notre base de données.\n",
        "\n",
        "Nous allons ajouter cette nouvelle fonction au script `sales_db.py` que nous avons créé à la première étape.\n",
        "\n",
        "Voici le code mis à jour, incluant la nouvelle fonction `add_sale` :"
      ],
      "metadata": {
        "id": "9QyQ4zvOeJGa"
      }
    },
    {
      "cell_type": "code",
      "source": [
        "import sqlite3\n",
        "import os\n",
        "from datetime import datetime # Import datetime to help with date format if needed\n",
        "\n",
        "# Define the database file name\n",
        "DATABASE_NAME = 'sales_tracking.db'\n",
        "\n",
        "def initialize_database():\n",
        "    \"\"\"Connects to the SQLite database and creates the sales table if it doesn't exist.\"\"\"\n",
        "    conn = None\n",
        "    try:\n",
        "        conn = sqlite3.connect(DATABASE_NAME)\n",
        "        cursor = conn.cursor()\n",
        "\n",
        "        cursor.execute('''\n",
        "            CREATE TABLE IF NOT EXISTS sales (\n",
        "                id INTEGER PRIMARY KEY AUTOINCREMENT,\n",
        "                customer_name TEXT NOT NULL,\n",
        "                customer_contact TEXT,\n",
        "                sale_date TEXT NOT NULL,\n",
        "                product_name TEXT NOT NULL,\n",
        "                price REAL NOT NULL,\n",
        "                quantity INTEGER NOT NULL,\n",
        "                total_revenue REAL NOT NULL\n",
        "            )\n",
        "        ''')\n",
        "\n",
        "        conn.commit()\n",
        "        print(f\"Database '{DATABASE_NAME}' initialized and 'sales' table ready.\")\n",
        "\n",
        "    except sqlite3.Error as e:\n",
        "        print(f\"Database error during initialization: {e}\")\n",
        "        if conn:\n",
        "            conn.rollback()\n",
        "    finally:\n",
        "        if conn:\n",
        "            conn.close()\n",
        "\n",
        "def add_sale(customer_name, customer_contact, sale_date, product_name, price, quantity):\n",
        "    \"\"\"Adds a new sale record to the database.\"\"\"\n",
        "    conn = None\n",
        "    try:\n",
        "        conn = sqlite3.connect(DATABASE_NAME)\n",
        "        cursor = conn.cursor()\n",
        "\n",
        "        # Calculate total revenue for this sale item\n",
        "        total_revenue = price * quantity\n",
        "\n",
        "        # SQL command to insert data\n",
        "        # We use ? as placeholders and provide values as a tuple\n",
        "        cursor.execute('''\n",
        "            INSERT INTO sales (customer_name, customer_contact, sale_date, product_name, price, quantity, total_revenue)\n",
        "            VALUES (?, ?, ?, ?, ?, ?, ?)\n",
        "        ''', (customer_name, customer_contact, sale_date, product_name, price, quantity, total_revenue))\n",
        "\n",
        "        # Commit the changes to save the new record\n",
        "        conn.commit()\n",
        "        print(\"Sale added successfully!\")\n",
        "\n",
        "    except sqlite3.Error as e:\n",
        "        print(f\"Database error when adding sale: {e}\")\n",
        "        if conn:\n",
        "            conn.rollback() # Roll back changes if something went wrong\n",
        "\n",
        "    finally:\n",
        "        if conn:\n",
        "            conn.close() # Always close the connection\n",
        "\n",
        "# --- How to run this step ---\n",
        "if __name__ == \"__main__\":\n",
        "    # First, ensure the database and table are initialized\n",
        "    initialize_database()\n",
        "\n",
        "    # --- Example of how to add a sale ---\n",
        "    print(\"\\n--- Adding a sample sale ---\")\n",
        "    # You would typically get these values from user input\n",
        "    # Ensure date format is consistent (e.g., 'YYYY-MM-DD')\n",
        "    add_sale(\"Alice Dubois\", \"alice.d@email.com\", \"2023-10-27\", \"Ordinateur Portable\", 850.00, 1)\n",
        "\n",
        "    print(\"\\n--- Adding another sample sale ---\")\n",
        "    add_sale(\"Bob Martin\", \"06 01 02 03 04\", \"2023-10-27\", \"Clavier Mécanique\", 75.50, 2)\n",
        "\n",
        "    print(\"\\n--- Adding a sale for the next day ---\")\n",
        "    add_sale(\"Alice Dubois\", \"alice.d@email.com\", \"2023-10-28\", \"Souris sans fil\", 25.00, 3)\n",
        "\n",
        "    # In a real application, you would add a loop here\n",
        "    # to allow adding multiple sales based on user input.\n",
        "    # For now, these are just examples to test the function."
      ],
      "outputs": [
        {
          "output_type": "stream",
          "name": "stdout",
          "text": [
            "Database 'sales_tracking.db' initialized and 'sales' table ready.\n",
            "\n",
            "--- Adding a sample sale ---\n",
            "Sale added successfully!\n",
            "\n",
            "--- Adding another sample sale ---\n",
            "Sale added successfully!\n",
            "\n",
            "--- Adding a sale for the next day ---\n",
            "Sale added successfully!\n"
          ]
        }
      ],
      "execution_count": 1,
      "metadata": {
        "colab": {
          "base_uri": "https://localhost:8080/"
        },
        "id": "_0ZDbPB0eJGp",
        "outputId": "6c701f5c-2fac-4679-e4da-e3286f558d54"
      }
    },
    {
      "cell_type": "markdown",
      "source": [
        "**Explication de la nouvelle fonction `add_sale` :**\n",
        "\n",
        "1.  `def add_sale(customer_name, ..., quantity):`: Nous définissons la fonction `add_sale` qui accepte tous les détails nécessaires comme arguments.\n",
        "2.  `conn = sqlite3.connect(DATABASE_NAME)`: On établit une nouvelle connexion à la base de données à chaque appel de la fonction. C'est simple et sûr pour cet exemple.\n",
        "3.  `total_revenue = price * quantity`: Ici, nous effectuons le calcul du montant total pour cette vente, comme demandé.\n",
        "4.  `cursor.execute(...)`: Nous exécutons la commande SQL pour insérer une nouvelle ligne.\n",
        "    * `INSERT INTO sales (...) VALUES (?, ?, ..., ?)`: C'est la commande standard pour ajouter des données à une table. Nous listons les colonnes où nous voulons insérer des données entre les premières parenthèses. Les points d'interrogation `?` sont des *placeholders*. Ils sont très importants pour la sécurité (pour éviter les injections SQL) et pour passer des variables à la requête SQL.\n",
        "    * `(customer_name, ..., total_revenue)`: Le deuxième argument de `execute` est un tuple qui contient les valeurs que nous voulons insérer, dans le même ordre que les colonnes listées. SQLite remplace chaque `?` par la valeur correspondante dans le tuple.\n",
        "5.  `conn.commit()`: Très important ! Cette ligne enregistre la nouvelle ligne dans la base de données.\n",
        "6.  `conn.close()`: Ferme la connexion.\n",
        "7.  Le bloc `try...except...finally`: Similaire à la fonction d'initialisation, il gère les erreurs et assure que la connexion est fermée.\n",
        "\n",
        "**Comment tester ce code :**\n",
        "\n",
        "1.  Remplacez le contenu de votre fichier `sales_db.py` par ce nouveau code.\n",
        "2.  Ouvrez un terminal dans le répertoire du fichier.\n",
        "3.  Exécutez le script : `python sales_db.py`\n",
        "4.  Le script va d'abord initialiser la base de données (si elle ne l'est pas déjà), puis ajouter les trois exemples de ventes que j'ai inclus dans le bloc `if __name__ == \"__main__\":`.\n",
        "5.  Vous verrez des messages indiquant que les ventes ont été ajoutées.\n",
        "\n",
        "Après avoir exécuté ce script, votre fichier `sales_tracking.db` contient maintenant les enregistrements des trois ventes d'exemple.\n",
        "\n",
        "Nous avons maintenant la base pour ajouter des données. L'étape suivante logique serait de pouvoir visualiser ces données.\n",
        "\n",
        "Êtes-vous prêt à ajouter une fonction pour afficher toutes les ventes enregistrées ?"
      ],
      "metadata": {
        "id": "PplpVYrceJG0"
      }
    }
  ],
  "metadata": {
    "colab": {
      "provenance": [],
      "include_colab_link": true
    },
    "kernelspec": {
      "display_name": "Python 3",
      "name": "python3"
    }
  },
  "nbformat": 4,
  "nbformat_minor": 0
}
