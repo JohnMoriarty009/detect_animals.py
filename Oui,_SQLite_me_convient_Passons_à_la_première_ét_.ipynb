{
  "cells": [
    {
      "cell_type": "markdown",
      "metadata": {
        "id": "view-in-github",
        "colab_type": "text"
      },
      "source": [
        "<a href=\"https://colab.research.google.com/github/JohnMoriarty009/detect_animals.py/blob/main/Oui%2C_SQLite_me_convient_Passons_%C3%A0_la_premi%C3%A8re_%C3%A9t_.ipynb\" target=\"_parent\"><img src=\"https://colab.research.google.com/assets/colab-badge.svg\" alt=\"Open In Colab\"/></a>"
      ]
    },
    {
      "cell_type": "markdown",
      "source": [
        "Excellent ! SQLite est un excellent choix pour démarrer.\n",
        "\n",
        "Pour cette première étape, nous allons écrire le code Python nécessaire pour :\n",
        "1.  Se connecter à la base de données SQLite (qui sera un fichier sur votre ordinateur).\n",
        "2.  Créer la table qui stockera les informations de vente si elle n'existe pas déjà.\n",
        "\n",
        "Voici le code :"
      ],
      "metadata": {
        "id": "uAPpBmEPaCHx"
      }
    },
    {
      "cell_type": "code",
      "source": [
        "import sqlite3\n",
        "import os\n",
        "\n",
        "# Define the database file name\n",
        "DATABASE_NAME = 'sales_tracking.db'\n",
        "\n",
        "def initialize_database():\n",
        "    \"\"\"Connects to the SQLite database and creates the sales table if it doesn't exist.\"\"\"\n",
        "    conn = None\n",
        "    try:\n",
        "        # Connect to the database (creates the file if it doesn't exist)\n",
        "        conn = sqlite3.connect(DATABASE_NAME)\n",
        "        cursor = conn.cursor()\n",
        "\n",
        "        # Create the 'sales' table if it doesn't exist\n",
        "        cursor.execute('''\n",
        "            CREATE TABLE IF NOT EXISTS sales (\n",
        "                id INTEGER PRIMARY KEY AUTOINCREMENT,\n",
        "                customer_name TEXT NOT NULL,\n",
        "                customer_contact TEXT,\n",
        "                sale_date TEXT NOT NULL,\n",
        "                product_name TEXT NOT NULL,\n",
        "                price REAL NOT NULL,\n",
        "                quantity INTEGER NOT NULL,\n",
        "                total_revenue REAL NOT NULL\n",
        "            )\n",
        "        ''')\n",
        "\n",
        "        # Commit the changes (table creation)\n",
        "        conn.commit()\n",
        "        print(f\"Database '{DATABASE_NAME}' initialized and 'sales' table ready.\")\n",
        "\n",
        "    except sqlite3.Error as e:\n",
        "        print(f\"Database error: {e}\")\n",
        "        if conn:\n",
        "            conn.rollback() # Roll back changes if something went wrong\n",
        "\n",
        "    finally:\n",
        "        # Close the connection\n",
        "        if conn:\n",
        "            conn.close()\n",
        "\n",
        "# --- How to run this step ---\n",
        "if __name__ == \"__main__\":\n",
        "    initialize_database()\n",
        "    # You can add a check here later to confirm the file was created\n",
        "    if os.path.exists(DATABASE_NAME):\n",
        "        print(f\"Database file '{DATABASE_NAME}' created successfully.\")\n",
        "    else:\n",
        "         print(f\"Database file '{DATABASE_NAME}' was not created.\")"
      ],
      "outputs": [
        {
          "output_type": "stream",
          "name": "stdout",
          "text": [
            "Database 'sales_tracking.db' initialized and 'sales' table ready.\n",
            "Database file 'sales_tracking.db' created successfully.\n"
          ]
        }
      ],
      "execution_count": 1,
      "metadata": {
        "colab": {
          "base_uri": "https://localhost:8080/"
        },
        "id": "5R5U7nHtaCH6",
        "outputId": "4c5d1b92-c1aa-4139-d8ad-ff596098240f"
      }
    },
    {
      "cell_type": "markdown",
      "source": [
        "**Explication du code :**\n",
        "\n",
        "1.  `import sqlite3`: Cette ligne importe le module Python standard pour travailler avec les bases de données SQLite.\n",
        "2.  `import os`: On importe le module `os` pour pouvoir vérifier si le fichier de base de données a bien été créé à la fin du script.\n",
        "3.  `DATABASE_NAME = 'sales_tracking.db'`: On définit le nom du fichier qui contiendra notre base de données. Vous pouvez changer ce nom si vous le souhaitez.\n",
        "4.  `def initialize_database():`: On définit une fonction qui va gérer la connexion et la création de la table. C'est une bonne pratique d'encapsuler cette logique dans une fonction.\n",
        "5.  `conn = sqlite3.connect(DATABASE_NAME)`: C'est la ligne clé pour se connecter. Si le fichier `sales_tracking.db` n'existe pas dans le même dossier que votre script Python, SQLite le créera automatiquement. Si le fichier existe, il s'y connectera.\n",
        "6.  `cursor = conn.cursor()`: Un curseur est nécessaire pour exécuter des commandes SQL dans la base de données.\n",
        "7.  `cursor.execute(...)`: Cette méthode exécute une commande SQL.\n",
        "    * `CREATE TABLE IF NOT EXISTS sales (...)`: Cette commande SQL crée une table nommée `sales`. `IF NOT EXISTS` est important : cela signifie que la table ne sera créée que si elle n'existe pas déjà. Cela évite les erreurs si vous exécutez ce code plusieurs fois.\n",
        "    * À l'intérieur des parenthèses, nous définissons les colonnes de notre table :\n",
        "        * `id INTEGER PRIMARY KEY AUTOINCREMENT`: Une colonne `id` qui est un nombre entier, la clé primaire (identifiant unique pour chaque ligne), et `AUTOINCREMENT` fait que SQLite génère automatiquement un nouvel ID unique à chaque fois qu'une nouvelle vente est ajoutée.\n",
        "        * `customer_name TEXT NOT NULL`: Le nom du client, stocké comme texte. `NOT NULL` signifie que ce champ ne peut pas être vide.\n",
        "        * `customer_contact TEXT`: Le contact du client (téléphone, email, etc.), stocké comme texte. Il peut être vide.\n",
        "        * `sale_date TEXT NOT NULL`: La date de la vente, stockée comme texte. Il est souvent plus simple de stocker les dates sous forme de texte (par exemple, 'YYYY-MM-DD') ou de timestamp en SQLite. Pour l'instant, on utilise TEXT. Non vide.\n",
        "        * `product_name TEXT NOT NULL`: Le nom du produit, texte, non vide.\n",
        "        * `price REAL NOT NULL`: Le prix unitaire. `REAL` est utilisé pour les nombres décimaux en SQLite. Non vide.\n",
        "        * `quantity INTEGER NOT NULL`: La quantité. `INTEGER` pour les nombres entiers. Non vide.\n",
        "        * `total_revenue REAL NOT NULL`: Le montant total de cette ligne de vente (Prix * Quantité). Nous stockerons le résultat du calcul ici. `REAL` pour les décimales. Non vide.\n",
        "8.  `conn.commit()`: Cette ligne enregistre les changements effectués (ici, la création de la table) dans la base de données. Sans `commit`, les changements ne sont pas sauvegardés.\n",
        "9.  `conn.close()`: Il est très important de fermer la connexion à la base de données une fois que vous avez terminé vos opérations.\n",
        "10. Le bloc `try...except...finally`: C'est une gestion d'erreur standard en Python. Si une erreur SQLite se produit (`sqlite3.Error`), elle est interceptée et affichée. `finally` garantit que la connexion est toujours fermée, qu'il y ait eu une erreur ou non. `conn.rollback()` annule les changements si une erreur se produit avant le `commit`.\n",
        "11. Le bloc `if __name__ == \"__main__\":`: Ce bloc de code s'exécute uniquement si vous lancez le script Python directement (pas si vous l'importez comme un module dans un autre script). Il appelle simplement notre fonction `initialize_database` pour configurer la base de données lorsque vous exécutez ce fichier.\n",
        "\n",
        "**Comment utiliser ce code :**\n",
        "\n",
        "1.  Enregistrez ce code dans un fichier nommé, par exemple, `sales_db.py`.\n",
        "2.  Ouvrez un terminal ou une invite de commande.\n",
        "3.  Naviguez jusqu'au dossier où vous avez enregistré le fichier `sales_db.py`.\n",
        "4.  Exécutez le script avec la commande : `python sales_db.py`\n",
        "5.  Vous devriez voir les messages indiquant que la base de données a été initialisée. Un fichier nommé `sales_tracking.db` sera créé dans le même dossier.\n",
        "\n",
        "Voilà pour la première étape ! Votre base de données est maintenant prête à stocker des informations.\n",
        "\n",
        "Êtes-vous prêt pour la deuxième étape : ajouter une fonction pour enregistrer de nouvelles ventes dans cette table ?"
      ],
      "metadata": {
        "id": "I6IOaf3taCH9"
      }
    }
  ],
  "metadata": {
    "colab": {
      "provenance": [],
      "include_colab_link": true
    },
    "kernelspec": {
      "display_name": "Python 3",
      "name": "python3"
    }
  },
  "nbformat": 4,
  "nbformat_minor": 0
}