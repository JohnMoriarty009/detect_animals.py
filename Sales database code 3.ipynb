{
  "cells": [
    {
      "cell_type": "markdown",
      "metadata": {
        "id": "view-in-github",
        "colab_type": "text"
      },
      "source": [
        "<a href=\"https://colab.research.google.com/github/JohnMoriarty009/sales_tracking.py/blob/main/Sales%20database%20code%203.ipynb\" target=\"_parent\"><img src=\"https://colab.research.google.com/assets/colab-badge.svg\" alt=\"Open In Colab\"/></a>"
      ]
    },
    {
      "cell_type": "markdown",
      "source": [
        "Très bien ! Passons à la troisième étape : afficher toutes les ventes enregistrées dans la base de données.\n",
        "\n",
        "Nous allons ajouter une nouvelle fonction, `view_sales`, à notre script. Cette fonction se connectera à la base de données, récupérera toutes les lignes de la table `sales` et les affichera de manière lisible.\n",
        "\n",
        "Voici le code mis à jour, incluant la fonction `view_sales` :"
      ],
      "metadata": {
        "id": "HElgnCRblCfN"
      }
    },
    {
      "cell_type": "code",
      "source": [
        "import sqlite3\n",
        "import os\n",
        "from datetime import datetime\n",
        "\n",
        "# Define the database file name\n",
        "DATABASE_NAME = 'sales_tracking.db'\n",
        "\n",
        "def initialize_database():\n",
        "    \"\"\"Connects to the SQLite database and creates the sales table if it doesn't exist.\"\"\"\n",
        "    conn = None\n",
        "    try:\n",
        "        conn = sqlite3.connect(DATABASE_NAME)\n",
        "        cursor = conn.cursor()\n",
        "\n",
        "        cursor.execute('''\n",
        "            CREATE TABLE IF NOT EXISTS sales (\n",
        "                id INTEGER PRIMARY KEY AUTOINCREMENT,\n",
        "                customer_name TEXT NOT NULL,\n",
        "                customer_contact TEXT,\n",
        "                sale_date TEXT NOT NULL,\n",
        "                product_name TEXT NOT NULL,\n",
        "                price REAL NOT NULL,\n",
        "                quantity INTEGER NOT NULL,\n",
        "                total_revenue REAL NOT NULL\n",
        "            )\n",
        "        ''')\n",
        "\n",
        "        conn.commit()\n",
        "        # print(f\"Database '{DATABASE_NAME}' initialized and 'sales' table ready.\") # Keep output clean for main execution\n",
        "\n",
        "    except sqlite3.Error as e:\n",
        "        print(f\"Database error during initialization: {e}\")\n",
        "        if conn:\n",
        "            conn.rollback()\n",
        "    finally:\n",
        "        if conn:\n",
        "            conn.close()\n",
        "\n",
        "def add_sale(customer_name, customer_contact, sale_date, product_name, price, quantity):\n",
        "    \"\"\"Adds a new sale record to the database.\"\"\"\n",
        "    conn = None\n",
        "    try:\n",
        "        conn = sqlite3.connect(DATABASE_NAME)\n",
        "        cursor = conn.cursor()\n",
        "\n",
        "        total_revenue = price * quantity\n",
        "\n",
        "        cursor.execute('''\n",
        "            INSERT INTO sales (customer_name, customer_contact, sale_date, product_name, price, quantity, total_revenue)\n",
        "            VALUES (?, ?, ?, ?, ?, ?, ?)\n",
        "        ''', (customer_name, customer_contact, sale_date, product_name, price, quantity, total_revenue))\n",
        "\n",
        "        conn.commit()\n",
        "        print(f\"Sale added for {customer_name} ({product_name}, {quantity} pcs).\") # More specific success message\n",
        "\n",
        "    except sqlite3.Error as e:\n",
        "        print(f\"Database error when adding sale: {e}\")\n",
        "        if conn:\n",
        "            conn.rollback()\n",
        "    finally:\n",
        "        if conn:\n",
        "            conn.close()\n",
        "\n",
        "def view_sales():\n",
        "    \"\"\"Retrieves and displays all sale records from the database.\"\"\"\n",
        "    conn = None\n",
        "    try:\n",
        "        conn = sqlite3.connect(DATABASE_NAME)\n",
        "        cursor = conn.cursor()\n",
        "\n",
        "        # Select all columns for all rows in the sales table\n",
        "        cursor.execute(\"SELECT id, customer_name, customer_contact, sale_date, product_name, price, quantity, total_revenue FROM sales\")\n",
        "\n",
        "        # Fetch all results\n",
        "        sales_records = cursor.fetchall()\n",
        "\n",
        "        if not sales_records:\n",
        "            print(\"\\nNo sales records found yet.\")\n",
        "            return\n",
        "\n",
        "        print(\"\\n--- All Sales Records ---\")\n",
        "        # Print a header\n",
        "        print(f\"{'ID':<4} | {'Customer':<20} | {'Contact':<20} | {'Date':<10} | {'Product':<25} | {'Price':<8} | {'Qty':<4} | {'Total':<10}\")\n",
        "        print(\"-\" * 115) # Separator line\n",
        "\n",
        "        # Iterate over the fetched rows and print each sale\n",
        "        for record in sales_records:\n",
        "            # Unpack the tuple into individual variables\n",
        "            id, customer_name, customer_contact, sale_date, product_name, price, quantity, total_revenue = record\n",
        "            print(f\"{id:<4} | {customer_name:<20} | {customer_contact:<20} | {sale_date:<10} | {product_name:<25} | {price:<8.2f} | {quantity:<4} | {total_revenue:<10.2f}\")\n",
        "        print(\"-\" * 115) # Separator line\n",
        "\n",
        "    except sqlite3.Error as e:\n",
        "        print(f\"Database error when viewing sales: {e}\")\n",
        "\n",
        "    finally:\n",
        "        if conn:\n",
        "            conn.close()\n",
        "\n",
        "# --- How to run this step ---\n",
        "if __name__ == \"__main__\":\n",
        "    # First, ensure the database and table are initialized\n",
        "    initialize_database()\n",
        "    print(f\"Ensured database '{DATABASE_NAME}' is initialized.\") # Add a message here\n",
        "\n",
        "    # --- Add some sample sales (you can comment these out after the first run) ---\n",
        "    print(\"\\nAdding sample sales...\")\n",
        "    add_sale(\"Alice Dubois\", \"alice.d@email.com\", \"2023-10-27\", \"Ordinateur Portable\", 850.00, 1)\n",
        "    add_sale(\"Bob Martin\", \"06 01 02 03 04\", \"2023-10-27\", \"Clavier Mécanique\", 75.50, 2)\n",
        "    add_sale(\"Alice Dubois\", \"alice.d@email.com\", \"2023-10-28\", \"Souris sans fil\", 25.00, 3)\n",
        "    add_sale(\"Charlie Dupont\", None, \"2023-10-28\", \"Écran 27 pouces\", 250.00, 1) # Example with no contact\n",
        "\n",
        "    # --- Now, view all sales ---\n",
        "    print(\"\\n--- Viewing all sales records ---\")\n",
        "    view_sales()"
      ],
      "outputs": [
        {
          "output_type": "stream",
          "name": "stdout",
          "text": [
            "Ensured database 'sales_tracking.db' is initialized.\n",
            "\n",
            "Adding sample sales...\n",
            "Sale added for Alice Dubois (Ordinateur Portable, 1 pcs).\n",
            "Sale added for Bob Martin (Clavier Mécanique, 2 pcs).\n",
            "Sale added for Alice Dubois (Souris sans fil, 3 pcs).\n",
            "Sale added for Charlie Dupont (Écran 27 pouces, 1 pcs).\n",
            "\n",
            "--- Viewing all sales records ---\n",
            "\n",
            "--- All Sales Records ---\n",
            "ID   | Customer             | Contact              | Date       | Product                   | Price    | Qty  | Total     \n",
            "-------------------------------------------------------------------------------------------------------------------\n",
            "1    | Alice Dubois         | alice.d@email.com    | 2023-10-27 | Ordinateur Portable       | 850.00   | 1    | 850.00    \n",
            "2    | Bob Martin           | 06 01 02 03 04       | 2023-10-27 | Clavier Mécanique         | 75.50    | 2    | 151.00    \n",
            "3    | Alice Dubois         | alice.d@email.com    | 2023-10-28 | Souris sans fil           | 25.00    | 3    | 75.00     \n"
          ]
        },
        {
          "output_type": "error",
          "ename": "TypeError",
          "evalue": "unsupported format string passed to NoneType.__format__",
          "traceback": [
            "\u001b[0;31m---------------------------------------------------------------------------\u001b[0m",
            "\u001b[0;31mTypeError\u001b[0m                                 Traceback (most recent call last)",
            "\u001b[0;32m<ipython-input-1-148cdb0d65de>\u001b[0m in \u001b[0;36m<cell line: 0>\u001b[0;34m()\u001b[0m\n\u001b[1;32m    113\u001b[0m     \u001b[0;31m# --- Now, view all sales ---\u001b[0m\u001b[0;34m\u001b[0m\u001b[0;34m\u001b[0m\u001b[0m\n\u001b[1;32m    114\u001b[0m     \u001b[0mprint\u001b[0m\u001b[0;34m(\u001b[0m\u001b[0;34m\"\\n--- Viewing all sales records ---\"\u001b[0m\u001b[0;34m)\u001b[0m\u001b[0;34m\u001b[0m\u001b[0;34m\u001b[0m\u001b[0m\n\u001b[0;32m--> 115\u001b[0;31m     \u001b[0mview_sales\u001b[0m\u001b[0;34m(\u001b[0m\u001b[0;34m)\u001b[0m\u001b[0;34m\u001b[0m\u001b[0;34m\u001b[0m\u001b[0m\n\u001b[0m",
            "\u001b[0;32m<ipython-input-1-148cdb0d65de>\u001b[0m in \u001b[0;36mview_sales\u001b[0;34m()\u001b[0m\n\u001b[1;32m     88\u001b[0m             \u001b[0;31m# Unpack the tuple into individual variables\u001b[0m\u001b[0;34m\u001b[0m\u001b[0;34m\u001b[0m\u001b[0m\n\u001b[1;32m     89\u001b[0m             \u001b[0mid\u001b[0m\u001b[0;34m,\u001b[0m \u001b[0mcustomer_name\u001b[0m\u001b[0;34m,\u001b[0m \u001b[0mcustomer_contact\u001b[0m\u001b[0;34m,\u001b[0m \u001b[0msale_date\u001b[0m\u001b[0;34m,\u001b[0m \u001b[0mproduct_name\u001b[0m\u001b[0;34m,\u001b[0m \u001b[0mprice\u001b[0m\u001b[0;34m,\u001b[0m \u001b[0mquantity\u001b[0m\u001b[0;34m,\u001b[0m \u001b[0mtotal_revenue\u001b[0m \u001b[0;34m=\u001b[0m \u001b[0mrecord\u001b[0m\u001b[0;34m\u001b[0m\u001b[0;34m\u001b[0m\u001b[0m\n\u001b[0;32m---> 90\u001b[0;31m             \u001b[0mprint\u001b[0m\u001b[0;34m(\u001b[0m\u001b[0;34mf\"{id:<4} | {customer_name:<20} | {customer_contact:<20} | {sale_date:<10} | {product_name:<25} | {price:<8.2f} | {quantity:<4} | {total_revenue:<10.2f}\"\u001b[0m\u001b[0;34m)\u001b[0m\u001b[0;34m\u001b[0m\u001b[0;34m\u001b[0m\u001b[0m\n\u001b[0m\u001b[1;32m     91\u001b[0m         \u001b[0mprint\u001b[0m\u001b[0;34m(\u001b[0m\u001b[0;34m\"-\"\u001b[0m \u001b[0;34m*\u001b[0m \u001b[0;36m115\u001b[0m\u001b[0;34m)\u001b[0m \u001b[0;31m# Separator line\u001b[0m\u001b[0;34m\u001b[0m\u001b[0;34m\u001b[0m\u001b[0m\n\u001b[1;32m     92\u001b[0m \u001b[0;34m\u001b[0m\u001b[0m\n",
            "\u001b[0;31mTypeError\u001b[0m: unsupported format string passed to NoneType.__format__"
          ]
        }
      ],
      "execution_count": 1,
      "metadata": {
        "colab": {
          "base_uri": "https://localhost:8080/",
          "height": 575
        },
        "id": "mN0v5GkWlCfS",
        "outputId": "51a7a142-ae4b-4d4c-a122-9cba9a418daf"
      }
    },
    {
      "cell_type": "markdown",
      "source": [
        "**Explication de la nouvelle fonction `view_sales` :**\n",
        "\n",
        "1.  `def view_sales():`: On définit la fonction `view_sales`. Elle n'a pas besoin d'arguments car elle affiche *toutes* les ventes.\n",
        "2.  `conn = sqlite3.connect(DATABASE_NAME)`: On se connecte à la base de données.\n",
        "3.  `cursor = conn.cursor()`: On obtient un curseur.\n",
        "4.  `cursor.execute(\"SELECT id, customer_name, ..., total_revenue FROM sales\")`: C'est la commande SQL `SELECT` pour récupérer des données. `SELECT * FROM sales` sélectionnerait toutes les colonnes, mais il est généralement préférable de lister explicitement les colonnes que l'on veut (`id, customer_name, ...`). `FROM sales` spécifie la table d'où récupérer les données.\n",
        "5.  `sales_records = cursor.fetchall()`: Après avoir exécuté une requête `SELECT`, vous devez récupérer les résultats. `cursor.fetchall()` récupère *toutes* les lignes du résultat de la requête et les renvoie sous forme de liste. Chaque élément de la liste est un tuple représentant une ligne de la table.\n",
        "6.  `if not sales_records:`: On vérifie si la liste `sales_records` est vide. Si c'est le cas, cela signifie qu'il n'y a pas encore de ventes dans la base de données, et on affiche un message informatif.\n",
        "7.  `print(...)`: Si des enregistrements sont trouvés, on affiche un en-tête pour les colonnes pour rendre la sortie plus lisible. J'utilise ici la mise en forme de chaînes (`f\"...\"`) avec des spécificateurs d'alignement et de largeur (par exemple, `{<20}` pour aligner à gauche sur 20 caractères) pour créer une sortie tabulaire.\n",
        "8.  `for record in sales_records:`: On boucle à travers chaque tuple (chaque enregistrement de vente) dans la liste `sales_records`.\n",
        "9.  `id, customer_name, ..., total_revenue = record`: On \"déballe\" le tuple `record` dans des variables distinctes pour faciliter l'accès aux différentes valeurs.\n",
        "10. `print(...)`: On affiche les informations de chaque vente en utilisant la même mise en forme pour les colonnes que dans l'en-tête. Notez l'utilisation de `.2f` pour formater les nombres décimaux (`price`, `total_revenue`) avec deux chiffres après la virgule.\n",
        "11. Le bloc `try...except...finally`: Gère les erreurs et ferme la connexion.\n",
        "\n",
        "**Comment tester ce code :**\n",
        "\n",
        "1.  Remplacez le contenu de votre fichier `sales_db.py` par ce nouveau code.\n",
        "2.  Exécutez le script : `python sales_db.py`\n",
        "3.  Le script va d'abord ajouter les exemples de ventes (si ce n'est pas déjà fait), puis il appellera `view_sales()`.\n",
        "4.  Vous devriez voir la liste des ventes affichée dans votre terminal sous forme de tableau.\n",
        "\n",
        "Nous pouvons maintenant initialiser la base de données, ajouter des ventes et les visualiser. La prochaine étape logique est de pouvoir calculer le chiffre d'affaires total.\n",
        "\n",
        "Êtes-vous prêt pour cette quatrième étape ?"
      ],
      "metadata": {
        "id": "bjM7k5EDlCfW"
      }
    }
  ],
  "metadata": {
    "colab": {
      "provenance": [],
      "include_colab_link": true
    },
    "kernelspec": {
      "display_name": "Python 3",
      "name": "python3"
    }
  },
  "nbformat": 4,
  "nbformat_minor": 0
}